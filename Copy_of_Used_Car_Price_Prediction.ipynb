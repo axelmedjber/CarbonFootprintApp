{
  "metadata": {
    "kernelspec": {
      "display_name": "Python 3",
      "name": "python3"
    },
    "language_info": {
      "name": "python",
      "version": "3.10.14",
      "mimetype": "text/x-python",
      "codemirror_mode": {
        "name": "ipython",
        "version": 3
      },
      "pygments_lexer": "ipython3",
      "nbconvert_exporter": "python",
      "file_extension": ".py"
    },
    "kaggle": {
      "accelerator": "nvidiaTeslaT4",
      "dataSources": [
        {
          "sourceId": 76728,
          "databundleVersionId": 9057646,
          "sourceType": "competition"
        },
        {
          "sourceId": 6259095,
          "sourceType": "datasetVersion",
          "datasetId": 3597439
        },
        {
          "sourceId": 6478229,
          "sourceType": "datasetVersion",
          "datasetId": 3742543
        },
        {
          "sourceId": 9345432,
          "sourceType": "datasetVersion",
          "datasetId": 5664146
        }
      ],
      "isInternetEnabled": true,
      "language": "python",
      "sourceType": "notebook",
      "isGpuEnabled": true
    },
    "colab": {
      "provenance": [],
      "gpuType": "T4",
      "include_colab_link": true
    },
    "accelerator": "GPU"
  },
  "nbformat_minor": 0,
  "nbformat": 4,
  "cells": [
    {
      "cell_type": "markdown",
      "metadata": {
        "id": "view-in-github",
        "colab_type": "text"
      },
      "source": [
        "<a href=\"https://colab.research.google.com/github/axelmedjber/CarbonFootprintApp/blob/main/Copy_of_Used_Car_Price_Prediction.ipynb\" target=\"_parent\"><img src=\"https://colab.research.google.com/assets/colab-badge.svg\" alt=\"Open In Colab\"/></a>"
      ]
    },
    {
      "source": [
        "\n",
        "# IMPORTANT: RUN THIS CELL IN ORDER TO IMPORT YOUR KAGGLE DATA SOURCES\n",
        "# TO THE CORRECT LOCATION (/kaggle/input) IN YOUR NOTEBOOK,\n",
        "# THEN FEEL FREE TO DELETE THIS CELL.\n",
        "# NOTE: THIS NOTEBOOK ENVIRONMENT DIFFERS FROM KAGGLE'S PYTHON\n",
        "# ENVIRONMENT SO THERE MAY BE MISSING LIBRARIES USED BY YOUR\n",
        "# NOTEBOOK.\n",
        "\n",
        "import os\n",
        "import sys\n",
        "from tempfile import NamedTemporaryFile\n",
        "from urllib.request import urlopen\n",
        "from urllib.parse import unquote, urlparse\n",
        "from urllib.error import HTTPError\n",
        "from zipfile import ZipFile\n",
        "import tarfile\n",
        "import shutil\n",
        "\n",
        "CHUNK_SIZE = 40960\n",
        "DATA_SOURCE_MAPPING = 'playground-series-s4e9:https%3A%2F%2Fstorage.googleapis.com%2Fkaggle-competitions-data%2Fkaggle-v2%2F76728%2F9057646%2Fbundle%2Farchive.zip%3FX-Goog-Algorithm%3DGOOG4-RSA-SHA256%26X-Goog-Credential%3Dgcp-kaggle-com%2540kaggle-161607.iam.gserviceaccount.com%252F20240927%252Fauto%252Fstorage%252Fgoog4_request%26X-Goog-Date%3D20240927T184013Z%26X-Goog-Expires%3D259200%26X-Goog-SignedHeaders%3Dhost%26X-Goog-Signature%3Dadd7ee7604cb8ceb710c9171fae152da44b9a77bfdc5024170179cf107e6e3c009cba46c4a3ffddd6a1e97b03da7bd1e25e81f9b07345e68154fb07fe453950131718ed45e3496cff63b056a14e28e1d78cdf61abc22a824123e205e0235fef1847361c3ddd7362c97b22c8a6052003a5a3ee81dfaff1e839b36b12c1b3b9861aafd235f05f5c17bfe28d09ddd89858e3b472c74ae1fac1ee977f0dfb2934ad4298cdfcc33e3b36af67baaf162ca1cc61329bc3665eafb77d1a3c22a9e27e05c9abc8b64f6f240e41f1fe7fdae2946908524bd0f6d058af4166d2a374266fc51e9934f6067295eb31aca11dcc253af038d9bd891776636fb05f8e9299ed24a7e,car-price:https%3A%2F%2Fstorage.googleapis.com%2Fkaggle-data-sets%2F3597439%2F6259095%2Fbundle%2Farchive.zip%3FX-Goog-Algorithm%3DGOOG4-RSA-SHA256%26X-Goog-Credential%3Dgcp-kaggle-com%2540kaggle-161607.iam.gserviceaccount.com%252F20240927%252Fauto%252Fstorage%252Fgoog4_request%26X-Goog-Date%3D20240927T184013Z%26X-Goog-Expires%3D259200%26X-Goog-SignedHeaders%3Dhost%26X-Goog-Signature%3D53e9ec6c589af30d60b31bfe076abbfa41c9575bb187198bcf7a41dbcc70150c77e733e901c2a8aec2ab321aff38f649ef8eb9551fdf55fc4d1ff5057be5cd2796c5d5a8556b9b75f07df0a20f073ab52a3b2605a678cc145f1cf18fcc594eb2080bdd915aed6c03902ba1be335efa8125ac6528424605c23942a08d792c0293d2a34fe1d3c2a9a324c1582993e025be29e1b081fe6f4f003c6b9fb89fbcbf20d354f6c1441b1e92c6939bf6b5078bfa1cab3ca7e5e020b85a7604aca3b5bb77e95c802d03d783a63f96a874485bc8d1cb2db685f3c65306eb5f78f198c3aa36ba166c75b7d7e7246bdb21e1ebcf984d5db8e447544af6d34c034cb7ae6fe216,used-car-price-prediction-dataset:https%3A%2F%2Fstorage.googleapis.com%2Fkaggle-data-sets%2F3742543%2F6478229%2Fbundle%2Farchive.zip%3FX-Goog-Algorithm%3DGOOG4-RSA-SHA256%26X-Goog-Credential%3Dgcp-kaggle-com%2540kaggle-161607.iam.gserviceaccount.com%252F20240927%252Fauto%252Fstorage%252Fgoog4_request%26X-Goog-Date%3D20240927T184013Z%26X-Goog-Expires%3D259200%26X-Goog-SignedHeaders%3Dhost%26X-Goog-Signature%3D85af8f0c0fe0ab7972d4e46c02310bbebc70213a3f8c3f9991ad7a892b9bdfa533e9a065ae2b4f02f8a60200d322c7816f00d8451b3af816625c46103f8eacbbc2352d35ac034290ed9805afd4e2f8da97c9225d8cc48b14d26c773875e8efd73df82b277d5e9f6238f663a71df571147b021a48446bcf45240b036154c75d4061ef8d6d09b0cabe9549fcd2892d73dde44cef8def201b238582ccf365159bbd8bd498777274f77651e5a0efc0831dcf46151e59a507abd17b903477c4ecab1be1c535cbe8c68b85ea8776b1e9daff4fe781ea7d3f64202beead534b812c7aa36f8bc5e06fae2f61072cb8452864f461d61dd148ba5d3d9d85c953432a1cdff5,extended-dataset-for-used-car-prices-regression:https%3A%2F%2Fstorage.googleapis.com%2Fkaggle-data-sets%2F5664146%2F9345432%2Fbundle%2Farchive.zip%3FX-Goog-Algorithm%3DGOOG4-RSA-SHA256%26X-Goog-Credential%3Dgcp-kaggle-com%2540kaggle-161607.iam.gserviceaccount.com%252F20240927%252Fauto%252Fstorage%252Fgoog4_request%26X-Goog-Date%3D20240927T184013Z%26X-Goog-Expires%3D259200%26X-Goog-SignedHeaders%3Dhost%26X-Goog-Signature%3D060c35b9ceee36fd780590c2f5962455374e3ea380bd88f924b367433000d1e1031875202a348699135aa875cee768cf34e67a5e7b64ab3f6bf722fa4d2f39e45ac99ab535ac9d6f9a3e69f25e2b93147f449fbe2484b9ca04399514dc0dea569488168e9baafcb5b1ec0afc8af2cbd1d47f4f8653dee6618e277f041b67ab0128abb75ed3c1fdd2adf46585c4ac08a3a89743fd3b464fac85f0583c06865cd5a09b32259cf87107f5c00af634de7f56f02b13025b3cc56b1e1278039fed2fb9ccc24ed0c8ff8a3fa6d470154c350e1ce0e864e066f5de2969bdf3fa6e1be227f03ddfa0a46ad4865ccdf12a2df488e58819a280defd3c63d44138d870662de5'\n",
        "\n",
        "KAGGLE_INPUT_PATH='/kaggle/input'\n",
        "KAGGLE_WORKING_PATH='/kaggle/working'\n",
        "KAGGLE_SYMLINK='kaggle'\n",
        "\n",
        "!umount /kaggle/input/ 2> /dev/null\n",
        "shutil.rmtree('/kaggle/input', ignore_errors=True)\n",
        "os.makedirs(KAGGLE_INPUT_PATH, 0o777, exist_ok=True)\n",
        "os.makedirs(KAGGLE_WORKING_PATH, 0o777, exist_ok=True)\n",
        "\n",
        "try:\n",
        "  os.symlink(KAGGLE_INPUT_PATH, os.path.join(\"..\", 'input'), target_is_directory=True)\n",
        "except FileExistsError:\n",
        "  pass\n",
        "try:\n",
        "  os.symlink(KAGGLE_WORKING_PATH, os.path.join(\"..\", 'working'), target_is_directory=True)\n",
        "except FileExistsError:\n",
        "  pass\n",
        "\n",
        "for data_source_mapping in DATA_SOURCE_MAPPING.split(','):\n",
        "    directory, download_url_encoded = data_source_mapping.split(':')\n",
        "    download_url = unquote(download_url_encoded)\n",
        "    filename = urlparse(download_url).path\n",
        "    destination_path = os.path.join(KAGGLE_INPUT_PATH, directory)\n",
        "    try:\n",
        "        with urlopen(download_url) as fileres, NamedTemporaryFile() as tfile:\n",
        "            total_length = fileres.headers['content-length']\n",
        "            print(f'Downloading {directory}, {total_length} bytes compressed')\n",
        "            dl = 0\n",
        "            data = fileres.read(CHUNK_SIZE)\n",
        "            while len(data) > 0:\n",
        "                dl += len(data)\n",
        "                tfile.write(data)\n",
        "                done = int(50 * dl / int(total_length))\n",
        "                sys.stdout.write(f\"\\r[{'=' * done}{' ' * (50-done)}] {dl} bytes downloaded\")\n",
        "                sys.stdout.flush()\n",
        "                data = fileres.read(CHUNK_SIZE)\n",
        "            if filename.endswith('.zip'):\n",
        "              with ZipFile(tfile) as zfile:\n",
        "                zfile.extractall(destination_path)\n",
        "            else:\n",
        "              with tarfile.open(tfile.name) as tarfile:\n",
        "                tarfile.extractall(destination_path)\n",
        "            print(f'\\nDownloaded and uncompressed: {directory}')\n",
        "    except HTTPError as e:\n",
        "        print(f'Failed to load (likely expired) {download_url} to path {destination_path}')\n",
        "        continue\n",
        "    except OSError as e:\n",
        "        print(f'Failed to load {download_url} to path {destination_path}')\n",
        "        continue\n",
        "\n",
        "print('Data source import complete.')\n"
      ],
      "metadata": {
        "id": "IUXm4zQIyKiK",
        "outputId": "7ed99734-99a8-429f-fb37-60e396a4714e",
        "colab": {
          "base_uri": "https://localhost:8080/"
        }
      },
      "cell_type": "code",
      "outputs": [
        {
          "output_type": "stream",
          "name": "stdout",
          "text": [
            "Downloading playground-series-s4e9, 8223535 bytes compressed\n",
            "[==================================================] 8223535 bytes downloaded\n",
            "Downloaded and uncompressed: playground-series-s4e9\n",
            "Downloading car-price, 18523 bytes compressed\n",
            "[==================================================] 18523 bytes downloaded\n",
            "Downloaded and uncompressed: car-price\n",
            "Downloading used-car-price-prediction-dataset, 112006 bytes compressed\n",
            "[==================================================] 112006 bytes downloaded\n",
            "Downloaded and uncompressed: used-car-price-prediction-dataset\n",
            "Downloading extended-dataset-for-used-car-prices-regression, 332221 bytes compressed\n",
            "[==================================================] 332221 bytes downloaded\n",
            "Downloaded and uncompressed: extended-dataset-for-used-car-prices-regression\n",
            "Data source import complete.\n"
          ]
        }
      ],
      "execution_count": null
    },
    {
      "cell_type": "markdown",
      "source": [
        "# **Car Price Prediction: A Machine Learning Approach**\n",
        "\n",
        "In this notebook, we aim to predict the prices of used cars using a range of advanced machine learning techniques. The dataset includes various features such as brand, model, engine specifications, and mileage, which are used to estimate the final price.\n",
        "\n",
        "The approach involves:\n",
        "- Extensive **feature engineering** to enhance model performance.\n",
        "- **Hyperparameter tuning** to optimize model parameters for better accuracy.\n",
        "- **Ensemble learning** to combine the predictions of multiple models (XGBoost, LightGBM, CatBoost, and Random Forest).\n",
        "- **GPU memory management** and optimization techniques to handle large datasets efficiently."
      ],
      "metadata": {
        "_uuid": "f786d867-072d-4c60-9c80-3c3945e519aa",
        "_cell_guid": "b9413bca-bd76-48ec-b037-5966cd636651",
        "trusted": true,
        "id": "116z0QKgyKiQ"
      }
    },
    {
      "cell_type": "markdown",
      "source": [
        "## **1. Import Libraries**"
      ],
      "metadata": {
        "_uuid": "ae99db6a-00c6-4e8b-a5b4-14b728c45987",
        "_cell_guid": "0061f12d-3759-424a-b83c-6578bbc52c1c",
        "trusted": true,
        "id": "OObNrX7VyKiS"
      }
    },
    {
      "cell_type": "code",
      "source": [
        "# Install necessary libraries quietly\n",
        "!pip install --upgrade pip >/dev/null\n",
        "!pip install optuna xgboost lightgbm catboost category_encoders >/dev/null"
      ],
      "metadata": {
        "_uuid": "5f4ab468-3af4-4de1-b9c3-03cfb5729aca",
        "_cell_guid": "b2c69a84-3870-47cc-9559-6ac8a9c2ad76",
        "jupyter": {
          "outputs_hidden": false
        },
        "trusted": true,
        "id": "R5QF7r6CyKiT"
      },
      "execution_count": null,
      "outputs": []
    },
    {
      "cell_type": "code",
      "source": [
        "import numpy as np\n",
        "import pandas as pd\n",
        "import matplotlib.pyplot as plt\n",
        "import seaborn as sns\n",
        "import gc\n",
        "import optuna\n",
        "import re\n",
        "import sys\n",
        "import os\n",
        "import contextlib\n",
        "\n",
        "from sklearn.model_selection import train_test_split, KFold, cross_val_score\n",
        "from sklearn.metrics import mean_squared_error\n",
        "from sklearn.preprocessing import OrdinalEncoder, RobustScaler\n",
        "from sklearn.pipeline import Pipeline\n",
        "from sklearn.compose import ColumnTransformer\n",
        "\n",
        "# Import enable_iterative_imputer before using IterativeImputer\n",
        "from sklearn.experimental import enable_iterative_imputer\n",
        "from sklearn.impute import IterativeImputer\n",
        "\n",
        "from sklearn.decomposition import PCA\n",
        "from sklearn.cluster import KMeans\n",
        "\n",
        "from sklearn.ensemble import RandomForestRegressor\n",
        "from sklearn.linear_model import Ridge\n",
        "\n",
        "from xgboost import XGBRegressor\n",
        "import lightgbm as lgb\n",
        "from catboost import CatBoostRegressor\n",
        "\n",
        "import category_encoders as ce\n",
        "\n",
        "import warnings\n",
        "warnings.filterwarnings('ignore')\n",
        "\n",
        "# Suppress Optuna logging\n",
        "optuna.logging.set_verbosity(optuna.logging.ERROR)\n",
        "\n",
        "# Context manager to suppress stdout and stderr\n",
        "@contextlib.contextmanager\n",
        "def suppress_stdout_stderr():\n",
        "    with open(os.devnull, \"w\") as devnull:\n",
        "        old_stdout = sys.stdout\n",
        "        old_stderr = sys.stderr\n",
        "        sys.stdout = devnull\n",
        "        sys.stderr = devnull\n",
        "        try:\n",
        "            yield\n",
        "        finally:\n",
        "            sys.stdout = old_stdout\n",
        "            sys.stderr = old_stderr"
      ],
      "metadata": {
        "_uuid": "2d847da1-a5b1-4a73-849a-3699c24046f0",
        "_cell_guid": "5efcc25d-3a54-4366-993e-9d41a744b9db",
        "jupyter": {
          "outputs_hidden": false
        },
        "trusted": true,
        "id": "o7UkYzXLyKiT",
        "outputId": "53160296-1b2b-4631-e626-a0ae199a4dc3",
        "colab": {
          "base_uri": "https://localhost:8080/"
        }
      },
      "execution_count": null,
      "outputs": [
        {
          "output_type": "stream",
          "name": "stderr",
          "text": [
            "/usr/local/lib/python3.10/dist-packages/dask/dataframe/__init__.py:42: FutureWarning: \n",
            "Dask dataframe query planning is disabled because dask-expr is not installed.\n",
            "\n",
            "You can install it with `pip install dask[dataframe]` or `conda install dask`.\n",
            "This will raise in a future version.\n",
            "\n",
            "  warnings.warn(msg, FutureWarning)\n"
          ]
        }
      ]
    },
    {
      "cell_type": "markdown",
      "source": [
        "## **2. Load Data**"
      ],
      "metadata": {
        "_uuid": "defc56ce-fc87-43d8-abfc-40176e65083d",
        "_cell_guid": "fb260637-2b97-4bf8-b79f-adc754e61251",
        "trusted": true,
        "id": "1NdUC7d2yKiU"
      }
    },
    {
      "cell_type": "code",
      "source": [
        "df_sub = pd.read_csv(\"/kaggle/input/playground-series-s4e9/sample_submission.csv\")\n",
        "df_train = pd.read_csv(\"/kaggle/input/playground-series-s4e9/train.csv\")\n",
        "df_test = pd.read_csv(\"/kaggle/input/playground-series-s4e9/test.csv\")"
      ],
      "metadata": {
        "_uuid": "7b224ea6-2544-4828-b7f7-01e511c0eb93",
        "_cell_guid": "90593c43-682a-4924-b3d4-5aa4bd62cef8",
        "jupyter": {
          "outputs_hidden": false
        },
        "trusted": true,
        "id": "VDgcQWVzyKiU"
      },
      "execution_count": null,
      "outputs": []
    },
    {
      "cell_type": "markdown",
      "source": [
        "## **3. Exploratory Data Analysis (EDA)**"
      ],
      "metadata": {
        "_uuid": "dcf9bc09-38b7-4847-955a-0a25ed4a3c6d",
        "_cell_guid": "ca4633e3-5814-4882-9097-ef4b8ee889c6",
        "trusted": true,
        "id": "XPnWT0hSyKiV"
      }
    },
    {
      "cell_type": "code",
      "source": [
        "# Display basic information\n",
        "print(\"Train Data Shape:\", df_train.shape)\n",
        "print(\"Test Data Shape:\", df_test.shape)\n",
        "display(df_train.head())\n",
        "\n",
        "# Check for missing values\n",
        "missing_values = df_train.isnull().sum()\n",
        "print(\"\\nMissing Values in Train Data:\\n\", missing_values)"
      ],
      "metadata": {
        "_uuid": "589e4230-2508-4af2-bb05-113f95dcd127",
        "_cell_guid": "f80954c1-b5a5-41f5-81a9-1a1f4f23850b",
        "jupyter": {
          "outputs_hidden": false
        },
        "trusted": true,
        "id": "GcFZLjZbyKiW",
        "outputId": "68b9962f-c040-4073-b7a2-2776f4d64492",
        "colab": {
          "base_uri": "https://localhost:8080/",
          "height": 605
        }
      },
      "execution_count": null,
      "outputs": [
        {
          "output_type": "stream",
          "name": "stdout",
          "text": [
            "Train Data Shape: (188533, 13)\n",
            "Test Data Shape: (125690, 12)\n"
          ]
        },
        {
          "output_type": "display_data",
          "data": {
            "text/plain": [
              "   id          brand              model  model_year  milage      fuel_type  \\\n",
              "0   0           MINI      Cooper S Base        2007  213000       Gasoline   \n",
              "1   1        Lincoln              LS V8        2002  143250       Gasoline   \n",
              "2   2      Chevrolet  Silverado 2500 LT        2002  136731  E85 Flex Fuel   \n",
              "3   3        Genesis   G90 5.0 Ultimate        2017   19500       Gasoline   \n",
              "4   4  Mercedes-Benz        Metris Base        2021    7388       Gasoline   \n",
              "\n",
              "                                              engine  \\\n",
              "0       172.0HP 1.6L 4 Cylinder Engine Gasoline Fuel   \n",
              "1       252.0HP 3.9L 8 Cylinder Engine Gasoline Fuel   \n",
              "2  320.0HP 5.3L 8 Cylinder Engine Flex Fuel Capab...   \n",
              "3       420.0HP 5.0L 8 Cylinder Engine Gasoline Fuel   \n",
              "4       208.0HP 2.0L 4 Cylinder Engine Gasoline Fuel   \n",
              "\n",
              "                     transmission ext_col int_col  \\\n",
              "0                             A/T  Yellow    Gray   \n",
              "1                             A/T  Silver   Beige   \n",
              "2                             A/T    Blue    Gray   \n",
              "3  Transmission w/Dual Shift Mode   Black   Black   \n",
              "4                     7-Speed A/T   Black   Beige   \n",
              "\n",
              "                                 accident clean_title  price  \n",
              "0                           None reported         Yes   4200  \n",
              "1  At least 1 accident or damage reported         Yes   4999  \n",
              "2                           None reported         Yes  13900  \n",
              "3                           None reported         Yes  45000  \n",
              "4                           None reported         Yes  97500  "
            ],
            "text/html": [
              "\n",
              "  <div id=\"df-988fe593-5a0f-409a-bc51-e4b56ae4cc3d\" class=\"colab-df-container\">\n",
              "    <div>\n",
              "<style scoped>\n",
              "    .dataframe tbody tr th:only-of-type {\n",
              "        vertical-align: middle;\n",
              "    }\n",
              "\n",
              "    .dataframe tbody tr th {\n",
              "        vertical-align: top;\n",
              "    }\n",
              "\n",
              "    .dataframe thead th {\n",
              "        text-align: right;\n",
              "    }\n",
              "</style>\n",
              "<table border=\"1\" class=\"dataframe\">\n",
              "  <thead>\n",
              "    <tr style=\"text-align: right;\">\n",
              "      <th></th>\n",
              "      <th>id</th>\n",
              "      <th>brand</th>\n",
              "      <th>model</th>\n",
              "      <th>model_year</th>\n",
              "      <th>milage</th>\n",
              "      <th>fuel_type</th>\n",
              "      <th>engine</th>\n",
              "      <th>transmission</th>\n",
              "      <th>ext_col</th>\n",
              "      <th>int_col</th>\n",
              "      <th>accident</th>\n",
              "      <th>clean_title</th>\n",
              "      <th>price</th>\n",
              "    </tr>\n",
              "  </thead>\n",
              "  <tbody>\n",
              "    <tr>\n",
              "      <th>0</th>\n",
              "      <td>0</td>\n",
              "      <td>MINI</td>\n",
              "      <td>Cooper S Base</td>\n",
              "      <td>2007</td>\n",
              "      <td>213000</td>\n",
              "      <td>Gasoline</td>\n",
              "      <td>172.0HP 1.6L 4 Cylinder Engine Gasoline Fuel</td>\n",
              "      <td>A/T</td>\n",
              "      <td>Yellow</td>\n",
              "      <td>Gray</td>\n",
              "      <td>None reported</td>\n",
              "      <td>Yes</td>\n",
              "      <td>4200</td>\n",
              "    </tr>\n",
              "    <tr>\n",
              "      <th>1</th>\n",
              "      <td>1</td>\n",
              "      <td>Lincoln</td>\n",
              "      <td>LS V8</td>\n",
              "      <td>2002</td>\n",
              "      <td>143250</td>\n",
              "      <td>Gasoline</td>\n",
              "      <td>252.0HP 3.9L 8 Cylinder Engine Gasoline Fuel</td>\n",
              "      <td>A/T</td>\n",
              "      <td>Silver</td>\n",
              "      <td>Beige</td>\n",
              "      <td>At least 1 accident or damage reported</td>\n",
              "      <td>Yes</td>\n",
              "      <td>4999</td>\n",
              "    </tr>\n",
              "    <tr>\n",
              "      <th>2</th>\n",
              "      <td>2</td>\n",
              "      <td>Chevrolet</td>\n",
              "      <td>Silverado 2500 LT</td>\n",
              "      <td>2002</td>\n",
              "      <td>136731</td>\n",
              "      <td>E85 Flex Fuel</td>\n",
              "      <td>320.0HP 5.3L 8 Cylinder Engine Flex Fuel Capab...</td>\n",
              "      <td>A/T</td>\n",
              "      <td>Blue</td>\n",
              "      <td>Gray</td>\n",
              "      <td>None reported</td>\n",
              "      <td>Yes</td>\n",
              "      <td>13900</td>\n",
              "    </tr>\n",
              "    <tr>\n",
              "      <th>3</th>\n",
              "      <td>3</td>\n",
              "      <td>Genesis</td>\n",
              "      <td>G90 5.0 Ultimate</td>\n",
              "      <td>2017</td>\n",
              "      <td>19500</td>\n",
              "      <td>Gasoline</td>\n",
              "      <td>420.0HP 5.0L 8 Cylinder Engine Gasoline Fuel</td>\n",
              "      <td>Transmission w/Dual Shift Mode</td>\n",
              "      <td>Black</td>\n",
              "      <td>Black</td>\n",
              "      <td>None reported</td>\n",
              "      <td>Yes</td>\n",
              "      <td>45000</td>\n",
              "    </tr>\n",
              "    <tr>\n",
              "      <th>4</th>\n",
              "      <td>4</td>\n",
              "      <td>Mercedes-Benz</td>\n",
              "      <td>Metris Base</td>\n",
              "      <td>2021</td>\n",
              "      <td>7388</td>\n",
              "      <td>Gasoline</td>\n",
              "      <td>208.0HP 2.0L 4 Cylinder Engine Gasoline Fuel</td>\n",
              "      <td>7-Speed A/T</td>\n",
              "      <td>Black</td>\n",
              "      <td>Beige</td>\n",
              "      <td>None reported</td>\n",
              "      <td>Yes</td>\n",
              "      <td>97500</td>\n",
              "    </tr>\n",
              "  </tbody>\n",
              "</table>\n",
              "</div>\n",
              "    <div class=\"colab-df-buttons\">\n",
              "\n",
              "  <div class=\"colab-df-container\">\n",
              "    <button class=\"colab-df-convert\" onclick=\"convertToInteractive('df-988fe593-5a0f-409a-bc51-e4b56ae4cc3d')\"\n",
              "            title=\"Convert this dataframe to an interactive table.\"\n",
              "            style=\"display:none;\">\n",
              "\n",
              "  <svg xmlns=\"http://www.w3.org/2000/svg\" height=\"24px\" viewBox=\"0 -960 960 960\">\n",
              "    <path d=\"M120-120v-720h720v720H120Zm60-500h600v-160H180v160Zm220 220h160v-160H400v160Zm0 220h160v-160H400v160ZM180-400h160v-160H180v160Zm440 0h160v-160H620v160ZM180-180h160v-160H180v160Zm440 0h160v-160H620v160Z\"/>\n",
              "  </svg>\n",
              "    </button>\n",
              "\n",
              "  <style>\n",
              "    .colab-df-container {\n",
              "      display:flex;\n",
              "      gap: 12px;\n",
              "    }\n",
              "\n",
              "    .colab-df-convert {\n",
              "      background-color: #E8F0FE;\n",
              "      border: none;\n",
              "      border-radius: 50%;\n",
              "      cursor: pointer;\n",
              "      display: none;\n",
              "      fill: #1967D2;\n",
              "      height: 32px;\n",
              "      padding: 0 0 0 0;\n",
              "      width: 32px;\n",
              "    }\n",
              "\n",
              "    .colab-df-convert:hover {\n",
              "      background-color: #E2EBFA;\n",
              "      box-shadow: 0px 1px 2px rgba(60, 64, 67, 0.3), 0px 1px 3px 1px rgba(60, 64, 67, 0.15);\n",
              "      fill: #174EA6;\n",
              "    }\n",
              "\n",
              "    .colab-df-buttons div {\n",
              "      margin-bottom: 4px;\n",
              "    }\n",
              "\n",
              "    [theme=dark] .colab-df-convert {\n",
              "      background-color: #3B4455;\n",
              "      fill: #D2E3FC;\n",
              "    }\n",
              "\n",
              "    [theme=dark] .colab-df-convert:hover {\n",
              "      background-color: #434B5C;\n",
              "      box-shadow: 0px 1px 3px 1px rgba(0, 0, 0, 0.15);\n",
              "      filter: drop-shadow(0px 1px 2px rgba(0, 0, 0, 0.3));\n",
              "      fill: #FFFFFF;\n",
              "    }\n",
              "  </style>\n",
              "\n",
              "    <script>\n",
              "      const buttonEl =\n",
              "        document.querySelector('#df-988fe593-5a0f-409a-bc51-e4b56ae4cc3d button.colab-df-convert');\n",
              "      buttonEl.style.display =\n",
              "        google.colab.kernel.accessAllowed ? 'block' : 'none';\n",
              "\n",
              "      async function convertToInteractive(key) {\n",
              "        const element = document.querySelector('#df-988fe593-5a0f-409a-bc51-e4b56ae4cc3d');\n",
              "        const dataTable =\n",
              "          await google.colab.kernel.invokeFunction('convertToInteractive',\n",
              "                                                    [key], {});\n",
              "        if (!dataTable) return;\n",
              "\n",
              "        const docLinkHtml = 'Like what you see? Visit the ' +\n",
              "          '<a target=\"_blank\" href=https://colab.research.google.com/notebooks/data_table.ipynb>data table notebook</a>'\n",
              "          + ' to learn more about interactive tables.';\n",
              "        element.innerHTML = '';\n",
              "        dataTable['output_type'] = 'display_data';\n",
              "        await google.colab.output.renderOutput(dataTable, element);\n",
              "        const docLink = document.createElement('div');\n",
              "        docLink.innerHTML = docLinkHtml;\n",
              "        element.appendChild(docLink);\n",
              "      }\n",
              "    </script>\n",
              "  </div>\n",
              "\n",
              "\n",
              "<div id=\"df-e624a301-58d8-4e4f-85a5-b87a29944e3d\">\n",
              "  <button class=\"colab-df-quickchart\" onclick=\"quickchart('df-e624a301-58d8-4e4f-85a5-b87a29944e3d')\"\n",
              "            title=\"Suggest charts\"\n",
              "            style=\"display:none;\">\n",
              "\n",
              "<svg xmlns=\"http://www.w3.org/2000/svg\" height=\"24px\"viewBox=\"0 0 24 24\"\n",
              "     width=\"24px\">\n",
              "    <g>\n",
              "        <path d=\"M19 3H5c-1.1 0-2 .9-2 2v14c0 1.1.9 2 2 2h14c1.1 0 2-.9 2-2V5c0-1.1-.9-2-2-2zM9 17H7v-7h2v7zm4 0h-2V7h2v10zm4 0h-2v-4h2v4z\"/>\n",
              "    </g>\n",
              "</svg>\n",
              "  </button>\n",
              "\n",
              "<style>\n",
              "  .colab-df-quickchart {\n",
              "      --bg-color: #E8F0FE;\n",
              "      --fill-color: #1967D2;\n",
              "      --hover-bg-color: #E2EBFA;\n",
              "      --hover-fill-color: #174EA6;\n",
              "      --disabled-fill-color: #AAA;\n",
              "      --disabled-bg-color: #DDD;\n",
              "  }\n",
              "\n",
              "  [theme=dark] .colab-df-quickchart {\n",
              "      --bg-color: #3B4455;\n",
              "      --fill-color: #D2E3FC;\n",
              "      --hover-bg-color: #434B5C;\n",
              "      --hover-fill-color: #FFFFFF;\n",
              "      --disabled-bg-color: #3B4455;\n",
              "      --disabled-fill-color: #666;\n",
              "  }\n",
              "\n",
              "  .colab-df-quickchart {\n",
              "    background-color: var(--bg-color);\n",
              "    border: none;\n",
              "    border-radius: 50%;\n",
              "    cursor: pointer;\n",
              "    display: none;\n",
              "    fill: var(--fill-color);\n",
              "    height: 32px;\n",
              "    padding: 0;\n",
              "    width: 32px;\n",
              "  }\n",
              "\n",
              "  .colab-df-quickchart:hover {\n",
              "    background-color: var(--hover-bg-color);\n",
              "    box-shadow: 0 1px 2px rgba(60, 64, 67, 0.3), 0 1px 3px 1px rgba(60, 64, 67, 0.15);\n",
              "    fill: var(--button-hover-fill-color);\n",
              "  }\n",
              "\n",
              "  .colab-df-quickchart-complete:disabled,\n",
              "  .colab-df-quickchart-complete:disabled:hover {\n",
              "    background-color: var(--disabled-bg-color);\n",
              "    fill: var(--disabled-fill-color);\n",
              "    box-shadow: none;\n",
              "  }\n",
              "\n",
              "  .colab-df-spinner {\n",
              "    border: 2px solid var(--fill-color);\n",
              "    border-color: transparent;\n",
              "    border-bottom-color: var(--fill-color);\n",
              "    animation:\n",
              "      spin 1s steps(1) infinite;\n",
              "  }\n",
              "\n",
              "  @keyframes spin {\n",
              "    0% {\n",
              "      border-color: transparent;\n",
              "      border-bottom-color: var(--fill-color);\n",
              "      border-left-color: var(--fill-color);\n",
              "    }\n",
              "    20% {\n",
              "      border-color: transparent;\n",
              "      border-left-color: var(--fill-color);\n",
              "      border-top-color: var(--fill-color);\n",
              "    }\n",
              "    30% {\n",
              "      border-color: transparent;\n",
              "      border-left-color: var(--fill-color);\n",
              "      border-top-color: var(--fill-color);\n",
              "      border-right-color: var(--fill-color);\n",
              "    }\n",
              "    40% {\n",
              "      border-color: transparent;\n",
              "      border-right-color: var(--fill-color);\n",
              "      border-top-color: var(--fill-color);\n",
              "    }\n",
              "    60% {\n",
              "      border-color: transparent;\n",
              "      border-right-color: var(--fill-color);\n",
              "    }\n",
              "    80% {\n",
              "      border-color: transparent;\n",
              "      border-right-color: var(--fill-color);\n",
              "      border-bottom-color: var(--fill-color);\n",
              "    }\n",
              "    90% {\n",
              "      border-color: transparent;\n",
              "      border-bottom-color: var(--fill-color);\n",
              "    }\n",
              "  }\n",
              "</style>\n",
              "\n",
              "  <script>\n",
              "    async function quickchart(key) {\n",
              "      const quickchartButtonEl =\n",
              "        document.querySelector('#' + key + ' button');\n",
              "      quickchartButtonEl.disabled = true;  // To prevent multiple clicks.\n",
              "      quickchartButtonEl.classList.add('colab-df-spinner');\n",
              "      try {\n",
              "        const charts = await google.colab.kernel.invokeFunction(\n",
              "            'suggestCharts', [key], {});\n",
              "      } catch (error) {\n",
              "        console.error('Error during call to suggestCharts:', error);\n",
              "      }\n",
              "      quickchartButtonEl.classList.remove('colab-df-spinner');\n",
              "      quickchartButtonEl.classList.add('colab-df-quickchart-complete');\n",
              "    }\n",
              "    (() => {\n",
              "      let quickchartButtonEl =\n",
              "        document.querySelector('#df-e624a301-58d8-4e4f-85a5-b87a29944e3d button');\n",
              "      quickchartButtonEl.style.display =\n",
              "        google.colab.kernel.accessAllowed ? 'block' : 'none';\n",
              "    })();\n",
              "  </script>\n",
              "</div>\n",
              "\n",
              "    </div>\n",
              "  </div>\n"
            ],
            "application/vnd.google.colaboratory.intrinsic+json": {
              "type": "dataframe",
              "summary": "{\n  \"name\": \"print(\\\"\\\\nMissing Values in Train Data:\\\\n\\\", missing_values)\",\n  \"rows\": 5,\n  \"fields\": [\n    {\n      \"column\": \"id\",\n      \"properties\": {\n        \"dtype\": \"number\",\n        \"std\": 1,\n        \"min\": 0,\n        \"max\": 4,\n        \"num_unique_values\": 5,\n        \"samples\": [\n          1,\n          4,\n          2\n        ],\n        \"semantic_type\": \"\",\n        \"description\": \"\"\n      }\n    },\n    {\n      \"column\": \"brand\",\n      \"properties\": {\n        \"dtype\": \"string\",\n        \"num_unique_values\": 5,\n        \"samples\": [\n          \"Lincoln\",\n          \"Mercedes-Benz\",\n          \"Chevrolet\"\n        ],\n        \"semantic_type\": \"\",\n        \"description\": \"\"\n      }\n    },\n    {\n      \"column\": \"model\",\n      \"properties\": {\n        \"dtype\": \"string\",\n        \"num_unique_values\": 5,\n        \"samples\": [\n          \"LS V8\",\n          \"Metris Base\",\n          \"Silverado 2500 LT\"\n        ],\n        \"semantic_type\": \"\",\n        \"description\": \"\"\n      }\n    },\n    {\n      \"column\": \"model_year\",\n      \"properties\": {\n        \"dtype\": \"number\",\n        \"std\": 8,\n        \"min\": 2002,\n        \"max\": 2021,\n        \"num_unique_values\": 4,\n        \"samples\": [\n          2002,\n          2021,\n          2007\n        ],\n        \"semantic_type\": \"\",\n        \"description\": \"\"\n      }\n    },\n    {\n      \"column\": \"milage\",\n      \"properties\": {\n        \"dtype\": \"number\",\n        \"std\": 87987,\n        \"min\": 7388,\n        \"max\": 213000,\n        \"num_unique_values\": 5,\n        \"samples\": [\n          143250,\n          7388,\n          136731\n        ],\n        \"semantic_type\": \"\",\n        \"description\": \"\"\n      }\n    },\n    {\n      \"column\": \"fuel_type\",\n      \"properties\": {\n        \"dtype\": \"category\",\n        \"num_unique_values\": 2,\n        \"samples\": [\n          \"E85 Flex Fuel\",\n          \"Gasoline\"\n        ],\n        \"semantic_type\": \"\",\n        \"description\": \"\"\n      }\n    },\n    {\n      \"column\": \"engine\",\n      \"properties\": {\n        \"dtype\": \"string\",\n        \"num_unique_values\": 5,\n        \"samples\": [\n          \"252.0HP 3.9L 8 Cylinder Engine Gasoline Fuel\",\n          \"208.0HP 2.0L 4 Cylinder Engine Gasoline Fuel\"\n        ],\n        \"semantic_type\": \"\",\n        \"description\": \"\"\n      }\n    },\n    {\n      \"column\": \"transmission\",\n      \"properties\": {\n        \"dtype\": \"string\",\n        \"num_unique_values\": 3,\n        \"samples\": [\n          \"A/T\",\n          \"Transmission w/Dual Shift Mode\"\n        ],\n        \"semantic_type\": \"\",\n        \"description\": \"\"\n      }\n    },\n    {\n      \"column\": \"ext_col\",\n      \"properties\": {\n        \"dtype\": \"string\",\n        \"num_unique_values\": 4,\n        \"samples\": [\n          \"Silver\",\n          \"Black\"\n        ],\n        \"semantic_type\": \"\",\n        \"description\": \"\"\n      }\n    },\n    {\n      \"column\": \"int_col\",\n      \"properties\": {\n        \"dtype\": \"string\",\n        \"num_unique_values\": 3,\n        \"samples\": [\n          \"Gray\",\n          \"Beige\"\n        ],\n        \"semantic_type\": \"\",\n        \"description\": \"\"\n      }\n    },\n    {\n      \"column\": \"accident\",\n      \"properties\": {\n        \"dtype\": \"category\",\n        \"num_unique_values\": 2,\n        \"samples\": [\n          \"At least 1 accident or damage reported\",\n          \"None reported\"\n        ],\n        \"semantic_type\": \"\",\n        \"description\": \"\"\n      }\n    },\n    {\n      \"column\": \"clean_title\",\n      \"properties\": {\n        \"dtype\": \"category\",\n        \"num_unique_values\": 1,\n        \"samples\": [\n          \"Yes\"\n        ],\n        \"semantic_type\": \"\",\n        \"description\": \"\"\n      }\n    },\n    {\n      \"column\": \"price\",\n      \"properties\": {\n        \"dtype\": \"number\",\n        \"std\": 39631,\n        \"min\": 4200,\n        \"max\": 97500,\n        \"num_unique_values\": 5,\n        \"samples\": [\n          4999\n        ],\n        \"semantic_type\": \"\",\n        \"description\": \"\"\n      }\n    }\n  ]\n}"
            }
          },
          "metadata": {}
        },
        {
          "output_type": "stream",
          "name": "stdout",
          "text": [
            "\n",
            "Missing Values in Train Data:\n",
            " id                  0\n",
            "brand               0\n",
            "model               0\n",
            "model_year          0\n",
            "milage              0\n",
            "fuel_type        5083\n",
            "engine              0\n",
            "transmission        0\n",
            "ext_col             0\n",
            "int_col             0\n",
            "accident         2452\n",
            "clean_title     21419\n",
            "price               0\n",
            "dtype: int64\n"
          ]
        }
      ]
    },
    {
      "cell_type": "markdown",
      "source": [
        "## **4. Data Preprocessing**"
      ],
      "metadata": {
        "_uuid": "0844fd78-1081-4156-a00e-2c6c559cfe19",
        "_cell_guid": "9af84b33-a749-4db7-b96f-24b5f745fc46",
        "trusted": true,
        "id": "zJD4YRVfyKiW"
      }
    },
    {
      "cell_type": "code",
      "source": [
        "# Combine train and test data for consistent preprocessing\n",
        "df_train['is_train'] = 1\n",
        "df_test['is_train'] = 0\n",
        "df = pd.concat([df_train, df_test], ignore_index=True)\n",
        "\n",
        "# Drop 'id' column if present\n",
        "df.drop(columns=['id'], errors='ignore', inplace=True)\n",
        "\n",
        "# Handle missing values using Iterative Imputer for numerical features\n",
        "def iterative_impute(df):\n",
        "    imputer = IterativeImputer(random_state=42)\n",
        "    numeric_cols = df.select_dtypes(exclude=['object']).columns.drop('is_train', errors='ignore')\n",
        "    df_numeric = df[numeric_cols]\n",
        "    df_imputed = pd.DataFrame(imputer.fit_transform(df_numeric), columns=numeric_cols)\n",
        "    df.update(df_imputed)\n",
        "    return df\n",
        "\n",
        "df = iterative_impute(df)"
      ],
      "metadata": {
        "_uuid": "32487d97-a9c2-4348-8a19-9e9a05728b08",
        "_cell_guid": "a54ff09a-e3fb-4d90-aff5-59d377aa9968",
        "jupyter": {
          "outputs_hidden": false
        },
        "trusted": true,
        "id": "uSGmOsJpyKiX"
      },
      "execution_count": null,
      "outputs": []
    },
    {
      "cell_type": "markdown",
      "source": [
        "## **5. Clean 'engine' Column**"
      ],
      "metadata": {
        "_uuid": "89dc1a43-cfdb-4f20-be2d-33132952bcb4",
        "_cell_guid": "6ae551c0-016e-41b4-b0d9-0004341a6da2",
        "trusted": true,
        "id": "ikbj-f5iyKiX"
      }
    },
    {
      "cell_type": "code",
      "source": [
        "def clean_engine(engine_value):\n",
        "    if isinstance(engine_value, str):\n",
        "        # Extract numeric part\n",
        "        match = re.search(r'([\\d\\.]+)', engine_value)\n",
        "        if match:\n",
        "            return float(match.group(1))\n",
        "        else:\n",
        "            return np.nan\n",
        "    else:\n",
        "        return engine_value\n",
        "\n",
        "df['engine'] = df['engine'].apply(clean_engine)\n",
        "\n",
        "# Handle any remaining NaN values in 'engine' after cleaning\n",
        "df['engine'] = df['engine'].fillna(df['engine'].mean())"
      ],
      "metadata": {
        "_uuid": "180cb7b6-897e-4569-bf4c-6eb1076a5dc1",
        "_cell_guid": "6bee1d7c-1b97-4f4f-9117-5a03f4ab0af2",
        "jupyter": {
          "outputs_hidden": false
        },
        "trusted": true,
        "id": "I_J9ufOpyKiY"
      },
      "execution_count": null,
      "outputs": []
    },
    {
      "cell_type": "markdown",
      "source": [
        "## **6. Feature Engineering**"
      ],
      "metadata": {
        "_uuid": "4d794abd-4c77-436f-a138-335350aafbcf",
        "_cell_guid": "c8ad4bdf-7b15-46f5-aaca-5806c9fa6647",
        "trusted": true,
        "id": "KZTRf5u5yKiY"
      }
    },
    {
      "cell_type": "code",
      "source": [
        "current_year = 2024\n",
        "luxury_brands = ['Mercedes-Benz', 'BMW', 'Audi', 'Lexus', 'Tesla', 'Porsche', 'Jaguar', 'Land Rover']\n",
        "\n",
        "def create_features(df):\n",
        "    df['vehicle_age'] = current_year - df['model_year']\n",
        "    df['mileage_per_year'] = df['milage'] / (df['vehicle_age'] + 1)\n",
        "    df['rare_fuel_type'] = df['fuel_type'].apply(lambda x: 0 if x in ['Petrol', 'Diesel'] else 1)\n",
        "    df['is_automatic'] = df['transmission'].apply(lambda x: 1 if x == 'Automatic' else 0)\n",
        "    df['has_accident_history'] = df['accident'].apply(lambda x: 1 if x != 'Unknown' and x != 'None' else 0)\n",
        "\n",
        "    # Create new features based on existing ones\n",
        "    df['engine_power'] = df['engine'] * df.get('horsepower', df['engine'])\n",
        "\n",
        "    # Handle 'weight' column if it exists\n",
        "    if 'weight' in df.columns:\n",
        "        df['power_to_weight'] = df.get('horsepower', df['engine']) / (df['weight'] + 1)\n",
        "    else:\n",
        "        # If 'weight' is not available, use 'engine' as a proxy\n",
        "        df['power_to_weight'] = df.get('horsepower', df['engine']) / (df['engine'] + 1)\n",
        "\n",
        "    df['brand_model'] = df['brand'] + '_' + df['model']\n",
        "    df['is_luxury_brand'] = df['brand'].isin(luxury_brands).astype(int)\n",
        "    df['engine_transmission'] = df['engine'] * df['is_automatic']\n",
        "    df['age_mileage'] = df['vehicle_age'] * df['milage']\n",
        "\n",
        "    return df\n",
        "\n",
        "# Apply feature engineering\n",
        "df = create_features(df)"
      ],
      "metadata": {
        "_uuid": "a43837ce-6c5f-4ff0-8a12-bc03cd61b0ad",
        "_cell_guid": "7febacc6-84e0-42a4-818d-e5b6c134801e",
        "jupyter": {
          "outputs_hidden": false
        },
        "trusted": true,
        "id": "qhcYGG0MyKiY"
      },
      "execution_count": null,
      "outputs": []
    },
    {
      "cell_type": "markdown",
      "source": [
        "### **a. Clustering**"
      ],
      "metadata": {
        "_uuid": "d6de0b57-eaf9-4699-a9e3-660c7dd22fbc",
        "_cell_guid": "efbd2da4-f34a-4788-84be-16f9879eb4dd",
        "trusted": true,
        "id": "zCSqsNikyKiZ"
      }
    },
    {
      "cell_type": "code",
      "source": [
        "# Use KMeans clustering on numerical features to create cluster labels\n",
        "numeric_cols = df.select_dtypes(include=['int64', 'float64']).columns.drop(['price', 'is_train'], errors='ignore')\n",
        "kmeans = KMeans(n_clusters=5, random_state=42, n_init='auto')\n",
        "df['cluster'] = kmeans.fit_predict(df[numeric_cols])"
      ],
      "metadata": {
        "_uuid": "d8599584-3efc-4d6d-9f58-cd177566f220",
        "_cell_guid": "1963f23c-7f53-494c-96c2-eb502faf47e4",
        "jupyter": {
          "outputs_hidden": false
        },
        "trusted": true,
        "id": "7fQBxcpXyKiZ"
      },
      "execution_count": null,
      "outputs": []
    },
    {
      "cell_type": "markdown",
      "source": [
        "### **b. Polynomial Features**"
      ],
      "metadata": {
        "_uuid": "5d153d0f-2a99-41c5-8c3e-24ddafcd9f1c",
        "_cell_guid": "860477bb-f1c0-424c-83d1-7f22c76a8d33",
        "trusted": true,
        "id": "Bx4NWsILyKiZ"
      }
    },
    {
      "cell_type": "code",
      "source": [
        "# Generate polynomial and interaction features\n",
        "from sklearn.preprocessing import PolynomialFeatures\n",
        "\n",
        "poly = PolynomialFeatures(degree=2, interaction_only=True, include_bias=False)\n",
        "poly_features = poly.fit_transform(df[numeric_cols])\n",
        "poly_feature_names = poly.get_feature_names_out(numeric_cols)\n",
        "df_poly = pd.DataFrame(poly_features, columns=poly_feature_names)\n",
        "\n",
        "# Exclude original features from df_poly\n",
        "original_features_set = set(numeric_cols)\n",
        "df_poly = df_poly[[col for col in df_poly.columns if col not in original_features_set]]\n",
        "\n",
        "# Concatenate the new features\n",
        "df.reset_index(drop=True, inplace=True)\n",
        "df_poly.reset_index(drop=True, inplace=True)\n",
        "df = pd.concat([df, df_poly], axis=1)"
      ],
      "metadata": {
        "_uuid": "034a9ad4-37e2-4088-ba11-ee1d14f8b4eb",
        "_cell_guid": "be51e63a-b742-45ad-a41b-61cf48ffa6f2",
        "jupyter": {
          "outputs_hidden": false
        },
        "trusted": true,
        "id": "T0ojz4FCyKiZ"
      },
      "execution_count": null,
      "outputs": []
    },
    {
      "cell_type": "markdown",
      "source": [
        "### **c. Target Encoding with Cross-Validation**"
      ],
      "metadata": {
        "_uuid": "61431d6f-595f-44f9-a16d-34f3862d243e",
        "_cell_guid": "a266719a-b9b7-471e-83f8-7e590baf4235",
        "trusted": true,
        "id": "_6A7B0eGyKia"
      }
    },
    {
      "cell_type": "code",
      "source": [
        "# Define high cardinality categorical columns\n",
        "high_cardinality_cols = ['brand', 'model', 'brand_model', 'ext_col', 'int_col', 'fuel_type', 'transmission', 'accident']\n",
        "\n",
        "# Prepare data for target encoding\n",
        "train_df = df[df['is_train'] == 1]\n",
        "test_df = df[df['is_train'] == 0]\n",
        "\n",
        "# Initialize TargetEncoder with smoothing to prevent overfitting\n",
        "target_enc = ce.TargetEncoder(cols=high_cardinality_cols, smoothing=0.3)\n",
        "\n",
        "# Apply cross-validated target encoding to avoid data leakage\n",
        "kf = KFold(n_splits=5, shuffle=True, random_state=42)\n",
        "train_encoded = train_df.copy()\n",
        "\n",
        "for train_index, val_index in kf.split(train_df):\n",
        "    X_train, X_val = train_df.iloc[train_index], train_df.iloc[val_index]\n",
        "    y_train = X_train['price']\n",
        "    target_enc.fit(X_train[high_cardinality_cols], y_train)\n",
        "    train_encoded.iloc[val_index, train_encoded.columns.get_indexer(high_cardinality_cols)] = target_enc.transform(X_val[high_cardinality_cols])\n",
        "\n",
        "# Fit encoder on the entire training data and transform test data\n",
        "target_enc.fit(train_df[high_cardinality_cols], train_df['price'])\n",
        "test_encoded = test_df.copy()\n",
        "test_encoded[high_cardinality_cols] = target_enc.transform(test_df[high_cardinality_cols])\n",
        "\n",
        "# Combine the encoded data\n",
        "df = pd.concat([train_encoded, test_encoded], axis=0)"
      ],
      "metadata": {
        "_uuid": "999089f4-0806-411f-8861-ca89978a49ff",
        "_cell_guid": "c2b5c2be-1e58-48ec-881f-9932cac98969",
        "jupyter": {
          "outputs_hidden": false
        },
        "trusted": true,
        "id": "5OqcVTWKyKia"
      },
      "execution_count": null,
      "outputs": []
    },
    {
      "cell_type": "markdown",
      "source": [
        "## **7. Handle Outliers and Skewness**"
      ],
      "metadata": {
        "_uuid": "89167c13-c6ca-46dd-90cf-680c457c332a",
        "_cell_guid": "aa2a97ed-93ea-4b1d-88a0-3305535b81c8",
        "trusted": true,
        "id": "bXqrAxqdyKia"
      }
    },
    {
      "cell_type": "code",
      "source": [
        "# Identify skewed numerical features\n",
        "from scipy.stats import skew\n",
        "\n",
        "numeric_feats = df.select_dtypes(include=['float64', 'int64']).columns.drop(['price', 'is_train'], errors='ignore')\n",
        "skewed_feats = df[numeric_feats].apply(lambda x: skew(x.dropna())).sort_values(ascending=False)\n",
        "skewness = pd.DataFrame({'Skew': skewed_feats})\n",
        "\n",
        "# Apply log1p transformation to features with high skewness\n",
        "skewed_features = skewness[abs(skewness['Skew']) > 0.75].index\n",
        "df[skewed_features] = np.log1p(df[skewed_features])\n",
        "\n",
        "# Apply log transformation to the target variable\n",
        "df['price'] = np.log1p(df['price'])"
      ],
      "metadata": {
        "_uuid": "fae17df2-ba1a-4d76-93f3-aac7e2ea0d97",
        "_cell_guid": "557ebe27-a8a9-4883-9088-16f6146e9cba",
        "jupyter": {
          "outputs_hidden": false
        },
        "trusted": true,
        "id": "on0oYkUMyKia"
      },
      "execution_count": null,
      "outputs": []
    },
    {
      "cell_type": "markdown",
      "source": [
        "## **8. Encoding Remaining Categorical Variables**"
      ],
      "metadata": {
        "_uuid": "3c8e83a5-8f49-4e1a-a960-02deb0c27a04",
        "_cell_guid": "0120a28c-1c9f-4eae-b83a-63ab1a91f390",
        "trusted": true,
        "id": "q5HGhlNEyKib"
      }
    },
    {
      "cell_type": "code",
      "source": [
        "# Encode remaining categorical variables using OrdinalEncoder\n",
        "cat_cols = df.select_dtypes(include=['object']).columns\n",
        "ordinal_encoder = OrdinalEncoder(handle_unknown='use_encoded_value', unknown_value=-1)\n",
        "df[cat_cols] = ordinal_encoder.fit_transform(df[cat_cols].astype(str))"
      ],
      "metadata": {
        "_uuid": "042ae4fc-f0fb-4b2e-a913-2aff90ae3f62",
        "_cell_guid": "926c4494-081a-4320-979e-0b2758ba0c0a",
        "jupyter": {
          "outputs_hidden": false
        },
        "trusted": true,
        "id": "L7tXwsDmyKib"
      },
      "execution_count": null,
      "outputs": []
    },
    {
      "cell_type": "markdown",
      "source": [
        "## **9. Scaling Numerical Features**"
      ],
      "metadata": {
        "_uuid": "8bce40b0-d93c-43e5-b8c8-0741433e767e",
        "_cell_guid": "d24e28bf-0a41-4007-a2ac-1d6ef243e2df",
        "trusted": true,
        "id": "xTHcsFlIyKib"
      }
    },
    {
      "cell_type": "code",
      "source": [
        "numeric_cols = df.select_dtypes(include=['int64', 'float64']).columns.drop(['price', 'is_train'], errors='ignore')\n",
        "scaler = RobustScaler()\n",
        "df[numeric_cols] = scaler.fit_transform(df[numeric_cols])"
      ],
      "metadata": {
        "_uuid": "f1382425-803e-45fa-9da9-7fcfcf10dc80",
        "_cell_guid": "7a3f5a7a-8c7d-4823-8c0c-95f6d68a46a2",
        "jupyter": {
          "outputs_hidden": false
        },
        "trusted": true,
        "id": "wQLSVu34yKic"
      },
      "execution_count": null,
      "outputs": []
    },
    {
      "cell_type": "markdown",
      "source": [
        "## **10. Feature Selection**"
      ],
      "metadata": {
        "_uuid": "7eeec2f1-289b-47ab-804c-5dbcbea88504",
        "_cell_guid": "d3ae4573-1815-4362-ae7c-7a503b83b634",
        "trusted": true,
        "id": "xD3fhbPByKic"
      }
    },
    {
      "cell_type": "code",
      "source": [
        "# Remove features with low variance\n",
        "from sklearn.feature_selection import VarianceThreshold\n",
        "\n",
        "selector = VarianceThreshold(threshold=0.01)\n",
        "selector.fit(df[df['is_train'] == 1][numeric_cols])\n",
        "low_variance_cols = numeric_cols[~selector.get_support()]\n",
        "print(\"Low Variance Columns:\", low_variance_cols.tolist())\n",
        "\n",
        "df.drop(columns=low_variance_cols, inplace=True)\n",
        "\n",
        "# Update numeric_cols after feature selection\n",
        "numeric_cols = df.select_dtypes(include=['int64', 'float64']).columns.drop(['price', 'is_train'], errors='ignore')"
      ],
      "metadata": {
        "_uuid": "61cff6fd-7a98-4c5f-99a2-be9cf272c627",
        "_cell_guid": "93a3412e-18be-466e-b1c7-aed13b0100c6",
        "jupyter": {
          "outputs_hidden": false
        },
        "trusted": true,
        "id": "QALfF36qyKic",
        "outputId": "d66c3d70-a3e8-47e2-d5e4-4d69d8b02dad",
        "colab": {
          "base_uri": "https://localhost:8080/"
        }
      },
      "execution_count": null,
      "outputs": [
        {
          "output_type": "stream",
          "name": "stdout",
          "text": [
            "Low Variance Columns: ['rare_fuel_type', 'has_accident_history', 'rare_fuel_type has_accident_history']\n"
          ]
        }
      ]
    },
    {
      "cell_type": "markdown",
      "source": [
        "## **11. Prepare Data for Modeling**"
      ],
      "metadata": {
        "_uuid": "817d3bdc-80cd-47d1-9913-74bc41e4fb56",
        "_cell_guid": "89c778db-6e46-4bb9-9452-3a130476fbaf",
        "trusted": true,
        "id": "-HWH-wbTyKic"
      }
    },
    {
      "cell_type": "code",
      "source": [
        "# Split back into train and test sets\n",
        "df_train = df[df['is_train'] == 1].drop(columns=['is_train'])\n",
        "df_test = df[df['is_train'] == 0].drop(columns=['is_train', 'price'])\n",
        "\n",
        "y = df_train['price']\n",
        "X = df_train.drop(['price'], axis=1)\n",
        "\n",
        "# Ensure no duplicate columns\n",
        "X = X.loc[:, ~X.columns.duplicated()]\n",
        "df_test = df_test.loc[:, ~df_test.columns.duplicated()]\n",
        "\n",
        "print(\"Final Training Features Shape:\", X.shape)\n",
        "print(\"Final Test Features Shape:\", df_test.shape)"
      ],
      "metadata": {
        "_uuid": "cbb64ca4-6209-4564-baf0-f683b24384cd",
        "_cell_guid": "f1ddea1d-d6a6-4d0f-9302-b6d0efdd8e75",
        "jupyter": {
          "outputs_hidden": false
        },
        "trusted": true,
        "id": "RAIP7H1syKid",
        "outputId": "38f795fa-e01e-4028-8938-bd8712911a34",
        "colab": {
          "base_uri": "https://localhost:8080/"
        }
      },
      "execution_count": null,
      "outputs": [
        {
          "output_type": "stream",
          "name": "stdout",
          "text": [
            "Final Training Features Shape: (188533, 98)\n",
            "Final Test Features Shape: (125690, 98)\n"
          ]
        }
      ]
    },
    {
      "cell_type": "markdown",
      "source": [
        "## **12. Hyperparameter Tuning with Optuna**"
      ],
      "metadata": {
        "_uuid": "62ebdcda-6f4a-47a7-b23a-a228d0462b93",
        "_cell_guid": "af4af174-9d34-4271-84b3-b810632bc9dd",
        "trusted": true,
        "id": "BKYGwOTAyKid"
      }
    },
    {
      "cell_type": "code",
      "source": [
        "def objective_xgb(trial):\n",
        "    # Define the parameters to be optimized\n",
        "    params = {\n",
        "        'subsample': trial.suggest_float('subsample', 0.5, 1.0),\n",
        "        'learning_rate': trial.suggest_float('learning_rate', 1e-3, 0.1, log=True),\n",
        "        'max_depth': trial.suggest_int('max_depth', 3, 10),\n",
        "        'min_child_weight': trial.suggest_int('min_child_weight', 1, 50),\n",
        "        'n_estimators': trial.suggest_int('n_estimators', 100, 500),\n",
        "        'random_state': 42,\n",
        "        # Use CPU for training\n",
        "        'tree_method': 'hist',\n",
        "        'verbosity': 0  # Suppress messages\n",
        "    }\n",
        "\n",
        "    # Use cross-validation\n",
        "    model = XGBRegressor(**params)\n",
        "    with suppress_stdout_stderr():\n",
        "        scores = cross_val_score(model, X, y, cv=3, scoring='neg_root_mean_squared_error', n_jobs=-1)\n",
        "    return -scores.mean()\n",
        "\n",
        "# Optuna hyperparameter tuning for XGBoost\n",
        "study_xgb = optuna.create_study(direction='minimize')\n",
        "study_xgb.optimize(objective_xgb, n_trials=10)\n",
        "\n",
        "best_params_xgb = study_xgb.best_params\n",
        "print(\"Best XGBoost Params:\", best_params_xgb)"
      ],
      "metadata": {
        "_uuid": "ab44d9a5-c8b1-4765-ae0d-11c5e470a4b1",
        "_cell_guid": "1e402956-92e5-4a2e-8d4c-f952dadaf52a",
        "jupyter": {
          "outputs_hidden": false
        },
        "trusted": true,
        "id": "oDeq5ou6yKid",
        "outputId": "dda82810-715f-483a-e62f-21b977bc9ea7",
        "colab": {
          "base_uri": "https://localhost:8080/"
        }
      },
      "execution_count": null,
      "outputs": [
        {
          "output_type": "stream",
          "name": "stdout",
          "text": [
            "Best XGBoost Params: {'subsample': 0.905081117520834, 'learning_rate': 0.03111589583720229, 'max_depth': 8, 'min_child_weight': 28, 'n_estimators': 381}\n"
          ]
        }
      ]
    },
    {
      "cell_type": "markdown",
      "source": [
        "## **13. Training Final Models**"
      ],
      "metadata": {
        "_uuid": "fe9cccc1-4c9b-44b5-97a4-42f57412f0b5",
        "_cell_guid": "58c0b8ea-265c-4e84-9988-e73c6d7dc760",
        "trusted": true,
        "id": "cEYgSPJ1yKid"
      }
    },
    {
      "cell_type": "markdown",
      "source": [
        "### **a. XGBoost**"
      ],
      "metadata": {
        "_uuid": "3c3b117b-a15b-4877-9ed5-029fe219e311",
        "_cell_guid": "0536553b-b9df-41e4-8793-7b1852cd8e7f",
        "trusted": true,
        "id": "0EZQe7CiyKie"
      }
    },
    {
      "cell_type": "code",
      "source": [
        "final_xgb = XGBRegressor(**best_params_xgb)\n",
        "with suppress_stdout_stderr():\n",
        "    final_xgb.fit(X, y)"
      ],
      "metadata": {
        "_uuid": "1ba61f45-27ae-4c68-b1a4-0a1416595b06",
        "_cell_guid": "b6caedff-8fc2-4500-bb13-d150ce3e95cb",
        "jupyter": {
          "outputs_hidden": false
        },
        "trusted": true,
        "id": "-YPrKVwPyKie"
      },
      "execution_count": null,
      "outputs": []
    },
    {
      "cell_type": "markdown",
      "source": [
        "### **b. LightGBM**"
      ],
      "metadata": {
        "_uuid": "f134d80b-1cca-4a31-b95f-e2e07d55f041",
        "_cell_guid": "24139431-bca3-4668-a7f5-d7aab89a698c",
        "trusted": true,
        "id": "u-kUSsOXyKie"
      }
    },
    {
      "cell_type": "code",
      "source": [
        "def objective_lgb(trial):\n",
        "    params = {\n",
        "        'num_leaves': trial.suggest_int('num_leaves', 31, 256),\n",
        "        'max_depth': trial.suggest_int('max_depth', 5, 20),\n",
        "        'learning_rate': trial.suggest_float('learning_rate', 1e-4, 0.1, log=True),\n",
        "        'n_estimators': trial.suggest_int('n_estimators', 500, 1000),\n",
        "        'min_data_in_leaf': trial.suggest_int('min_data_in_leaf', 20, 100),\n",
        "        'feature_fraction': trial.suggest_float('feature_fraction', 0.5, 1.0),\n",
        "        'bagging_fraction': trial.suggest_float('bagging_fraction', 0.5, 1.0),\n",
        "        'bagging_freq': trial.suggest_int('bagging_freq', 1, 7),\n",
        "        'lambda_l1': trial.suggest_float('lambda_l1', 1e-3, 10.0, log=True),\n",
        "        'lambda_l2': trial.suggest_float('lambda_l2', 1e-3, 10.0, log=True),\n",
        "        'random_state': 42,\n",
        "        # 'device': 'gpu',  # Remove this line to let LightGBM choose the device\n",
        "        'verbosity': -1,  # Suppress messages\n",
        "    }\n",
        "\n",
        "    model = lgb.LGBMRegressor(**params)\n",
        "    with suppress_stdout_stderr():\n",
        "        scores = cross_val_score(model, X, y, cv=3, scoring='neg_root_mean_squared_error', n_jobs=-1)\n",
        "    return -scores.mean()\n",
        "\n",
        "# Optuna hyperparameter tuning for LightGBM\n",
        "study_lgb = optuna.create_study(direction='minimize')\n",
        "study_lgb.optimize(objective_lgb, n_trials=10)\n",
        "\n",
        "best_params_lgb = study_lgb.best_params\n",
        "print(\"Best LightGBM Params:\", best_params_lgb)"
      ],
      "metadata": {
        "_uuid": "ad35a958-c803-46bc-8cbe-4ba58bd7b429",
        "_cell_guid": "9762e370-4674-418f-be49-168b934e304c",
        "jupyter": {
          "outputs_hidden": false
        },
        "trusted": true,
        "id": "yVMFrXVzyKie",
        "outputId": "8df655a1-6a07-491b-a704-7ef924f7e435",
        "colab": {
          "base_uri": "https://localhost:8080/"
        }
      },
      "execution_count": null,
      "outputs": [
        {
          "output_type": "stream",
          "name": "stdout",
          "text": [
            "Best LightGBM Params: {'num_leaves': 132, 'max_depth': 15, 'learning_rate': 0.011169919228287292, 'n_estimators': 640, 'min_data_in_leaf': 50, 'feature_fraction': 0.7261264051360649, 'bagging_fraction': 0.6187112228344223, 'bagging_freq': 6, 'lambda_l1': 1.3979535589830219, 'lambda_l2': 0.3763764272233558}\n"
          ]
        }
      ]
    },
    {
      "cell_type": "code",
      "source": [
        "# Remove 'verbose' from best_params_lgb if present\n",
        "best_params_lgb.pop('verbose', None)\n",
        "best_params_lgb.pop('verbosity', None)  # Remove if causing issues\n",
        "\n",
        "# Initialize the model with 'verbose' parameter\n",
        "final_lgb = lgb.LGBMRegressor(**best_params_lgb, verbose=-1)\n",
        "\n",
        "# Train the model while suppressing output\n",
        "with suppress_stdout_stderr():\n",
        "    final_lgb.fit(X, y)"
      ],
      "metadata": {
        "_uuid": "644b57d6-48aa-41ba-a2c2-c642af2815ee",
        "_cell_guid": "4beca060-5c50-48ad-b5eb-6d9e5dcae71c",
        "jupyter": {
          "outputs_hidden": false
        },
        "trusted": true,
        "id": "ElddoYm2yKie"
      },
      "execution_count": null,
      "outputs": []
    },
    {
      "cell_type": "markdown",
      "source": [
        "### **c. CatBoost**"
      ],
      "metadata": {
        "_uuid": "2aa302bf-ff71-4493-8c45-b5b7172d10cf",
        "_cell_guid": "7f16841f-8de7-4448-820c-100823ba1cd1",
        "trusted": true,
        "id": "lo6x2vfQyKik"
      }
    },
    {
      "cell_type": "code",
      "source": [
        "def objective_cat(trial):\n",
        "    params = {\n",
        "        'iterations': trial.suggest_int('iterations', 500, 1000),\n",
        "        'depth': trial.suggest_int('depth', 4, 10),\n",
        "        'learning_rate': trial.suggest_float('learning_rate', 1e-4, 0.1, log=True),\n",
        "        'l2_leaf_reg': trial.suggest_float('l2_leaf_reg', 1e-3, 10.0, log=True),\n",
        "        'random_strength': trial.suggest_float('random_strength', 0.0, 1.0),\n",
        "        'bagging_temperature': trial.suggest_float('bagging_temperature', 0.0, 1.0),\n",
        "        'eval_metric': 'RMSE',\n",
        "        'random_seed': 42,\n",
        "        'task_type': 'GPU',\n",
        "        'verbose': 0  # Suppress messages\n",
        "    }\n",
        "\n",
        "    model = CatBoostRegressor(**params)\n",
        "    with suppress_stdout_stderr():\n",
        "        # Set n_jobs=1 to prevent multiple processes from using GPU simultaneously\n",
        "        scores = cross_val_score(model, X, y, cv=3, scoring='neg_root_mean_squared_error', n_jobs=1)\n",
        "    return -scores.mean()\n",
        "\n",
        "# Optuna hyperparameter tuning for CatBoost\n",
        "study_cat = optuna.create_study(direction='minimize')\n",
        "study_cat.optimize(objective_cat, n_trials=10)\n",
        "\n",
        "best_params_cat = study_cat.best_params\n",
        "print(\"Best CatBoost Params:\", best_params_cat)"
      ],
      "metadata": {
        "_uuid": "18dcf277-c32c-4cc5-9784-075e44c262df",
        "_cell_guid": "d02a0457-5dda-49b0-8acb-823cc5c0c960",
        "jupyter": {
          "outputs_hidden": false
        },
        "trusted": true,
        "id": "PAXTaSb3yKil",
        "outputId": "d4819687-0960-4f4c-bf93-8c3dd32e272a",
        "colab": {
          "base_uri": "https://localhost:8080/"
        }
      },
      "execution_count": null,
      "outputs": [
        {
          "output_type": "stream",
          "name": "stdout",
          "text": [
            "Best CatBoost Params: {'iterations': 965, 'depth': 10, 'learning_rate': 0.024098748193505836, 'l2_leaf_reg': 6.965313810356091, 'random_strength': 0.71188566813244, 'bagging_temperature': 0.12392665275739945}\n"
          ]
        }
      ]
    },
    {
      "cell_type": "code",
      "source": [
        "final_cat = CatBoostRegressor(**best_params_cat)\n",
        "with suppress_stdout_stderr():\n",
        "    final_cat.fit(X, y)"
      ],
      "metadata": {
        "_uuid": "ce79c56d-d0d9-4682-890a-54ab533e1c9a",
        "_cell_guid": "0c48341c-bc74-410d-a7f5-b71e7deda094",
        "jupyter": {
          "outputs_hidden": false
        },
        "trusted": true,
        "id": "4jqnP39syKil"
      },
      "execution_count": null,
      "outputs": []
    },
    {
      "cell_type": "markdown",
      "source": [
        "### **d. Random Forest**"
      ],
      "metadata": {
        "_uuid": "7fdaad34-9b1d-418d-a478-bcf283b482be",
        "_cell_guid": "6dcaf23d-39a6-4121-9424-f85cd9181640",
        "trusted": true,
        "id": "_da0f_hVyKil"
      }
    },
    {
      "cell_type": "code",
      "source": [
        "def objective_rf(trial):\n",
        "    params = {\n",
        "        'n_estimators': trial.suggest_int('n_estimators', 100, 500),\n",
        "        'max_depth': trial.suggest_int('max_depth', 5, 20),\n",
        "        'min_samples_split': trial.suggest_int('min_samples_split', 2, 20),\n",
        "        'min_samples_leaf': trial.suggest_int('min_samples_leaf', 1, 20),\n",
        "        'max_features': trial.suggest_float('max_features', 0.5, 1.0),\n",
        "        'random_state': 42,\n",
        "        'n_jobs': -1,\n",
        "    }\n",
        "\n",
        "    model = RandomForestRegressor(**params)\n",
        "    with suppress_stdout_stderr():\n",
        "        scores = cross_val_score(model, X, y, cv=3, scoring='neg_root_mean_squared_error', n_jobs=-1)\n",
        "    return -scores.mean()\n",
        "\n",
        "# Optuna hyperparameter tuning for Random Forest\n",
        "study_rf = optuna.create_study(direction='minimize')\n",
        "study_rf.optimize(objective_rf, n_trials=10)\n",
        "\n",
        "best_params_rf = study_rf.best_params\n",
        "print(\"Best Random Forest Params:\", best_params_rf)"
      ],
      "metadata": {
        "_uuid": "3e9c4699-9763-46d0-ae59-4bdd801ea2f3",
        "_cell_guid": "e30bbda1-cb7c-4c8b-be36-90485e2f4191",
        "jupyter": {
          "outputs_hidden": false
        },
        "trusted": true,
        "id": "Dh3Yca2WyKim"
      },
      "execution_count": null,
      "outputs": []
    },
    {
      "cell_type": "code",
      "source": [
        "final_rf = RandomForestRegressor(**best_params_rf)\n",
        "with suppress_stdout_stderr():\n",
        "    final_rf.fit(X, y)"
      ],
      "metadata": {
        "_uuid": "b9c7e589-e77b-40dd-a531-fe2b959f6b53",
        "_cell_guid": "fce4545c-3bcc-4a12-be05-139c361140b5",
        "jupyter": {
          "outputs_hidden": false
        },
        "trusted": true,
        "id": "bpWegpT8yKim"
      },
      "execution_count": null,
      "outputs": []
    },
    {
      "cell_type": "markdown",
      "source": [
        "## **14. Stacking Ensemble**"
      ],
      "metadata": {
        "_uuid": "27bbb0bd-962f-48a1-9036-49469b2ad3f6",
        "_cell_guid": "eaf2e0fd-0e04-4c56-a23c-542a387ba7d5",
        "trusted": true,
        "id": "ALtb_L9oyKim"
      }
    },
    {
      "cell_type": "code",
      "source": [
        "from sklearn.ensemble import StackingRegressor\n",
        "\n",
        "estimators = [\n",
        "    ('xgb', final_xgb),\n",
        "    ('lgb', final_lgb),\n",
        "    ('cat', final_cat),\n",
        "    ('rf', final_rf)\n",
        "]\n",
        "\n",
        "final_estimator = Ridge(alpha=1.0)\n",
        "\n",
        "stacking_regressor = StackingRegressor(\n",
        "    estimators=estimators,\n",
        "    final_estimator=final_estimator,\n",
        "    cv=3,\n",
        "    n_jobs=-1\n",
        ")\n",
        "\n",
        "with suppress_stdout_stderr():\n",
        "    stacking_regressor.fit(X, y)"
      ],
      "metadata": {
        "_uuid": "3dd17133-1344-4fac-b9ae-0cdd4d39e32b",
        "_cell_guid": "8311082d-22b9-4af1-8cd6-3121049648fb",
        "jupyter": {
          "outputs_hidden": false
        },
        "trusted": true,
        "id": "S2um30GnyKim"
      },
      "execution_count": null,
      "outputs": []
    },
    {
      "cell_type": "markdown",
      "source": [
        "## **15. Predictions**"
      ],
      "metadata": {
        "_uuid": "bfd39e42-7337-41d3-85d7-2afa3d9db119",
        "_cell_guid": "711705c0-1726-4836-9d2c-cc5dddf46d04",
        "trusted": true,
        "id": "QpkSbDGyyKin"
      }
    },
    {
      "cell_type": "code",
      "source": [
        "# Predict on test data\n",
        "test_pred_stack = stacking_regressor.predict(df_test)\n",
        "\n",
        "# Inverse log transformation\n",
        "final_test_pred = np.expm1(test_pred_stack)"
      ],
      "metadata": {
        "_uuid": "9f66de7b-336e-47a2-ad3f-2e1c24516ddb",
        "_cell_guid": "5f2c9c43-f14a-4bab-98c4-a9b85997f90d",
        "jupyter": {
          "outputs_hidden": false
        },
        "trusted": true,
        "id": "ttkNuGiHyKin"
      },
      "execution_count": null,
      "outputs": []
    },
    {
      "cell_type": "markdown",
      "source": [
        "## **16. Create Submission File**"
      ],
      "metadata": {
        "_uuid": "894a4f2c-fd96-4114-9159-c565a9890a74",
        "_cell_guid": "daa7c996-0545-4341-aa65-1bf2f24616c6",
        "trusted": true,
        "id": "jxd9bLUHyKin"
      }
    },
    {
      "cell_type": "code",
      "source": [
        "df_sub['price'] = final_test_pred\n",
        "df_sub.to_csv('submission.csv', index=False)\n",
        "display(df_sub.head())"
      ],
      "metadata": {
        "_uuid": "5298c11a-b397-4e2b-a65b-c38ce1d7e384",
        "_cell_guid": "4262bafd-009e-4364-b03c-c7baa7e1e81d",
        "jupyter": {
          "outputs_hidden": false
        },
        "trusted": true,
        "id": "mfkmn_VTyKip"
      },
      "execution_count": null,
      "outputs": []
    },
    {
      "cell_type": "markdown",
      "source": [
        "## **17. Feature Importance**"
      ],
      "metadata": {
        "_uuid": "7e9f03d2-8733-4e6a-8638-a0a38378cdfb",
        "_cell_guid": "93d41455-c67b-4365-93e8-89f31245886e",
        "trusted": true,
        "id": "9RHF5C60yKip"
      }
    },
    {
      "cell_type": "code",
      "source": [
        "def plot_feature_importance(model, model_name):\n",
        "    if hasattr(model, 'feature_importances_'):\n",
        "        importances = model.feature_importances_\n",
        "        indices = np.argsort(importances)[::-1][:20]\n",
        "        plt.figure(figsize=(12, 6))\n",
        "        plt.title(f\"Top 20 Feature Importances - {model_name}\")\n",
        "        plt.bar(range(len(indices)), importances[indices], color='b', align='center')\n",
        "        plt.xticks(range(len(indices)), [X.columns[i] for i in indices], rotation=90)\n",
        "        plt.tight_layout()\n",
        "        plt.show()\n",
        "    else:\n",
        "        print(f\"{model_name} does not support feature importance.\")"
      ],
      "metadata": {
        "_uuid": "c7e0e728-22eb-47e7-8f6f-d6f8d9a80382",
        "_cell_guid": "09175e58-7b34-4588-ba48-19520a4f1660",
        "jupyter": {
          "outputs_hidden": false
        },
        "trusted": true,
        "id": "TUd7Ukv1yKiq"
      },
      "execution_count": null,
      "outputs": []
    },
    {
      "cell_type": "code",
      "source": [
        "plot_feature_importance(final_xgb, 'XGBoost')"
      ],
      "metadata": {
        "_uuid": "97e75b2d-c075-476a-b3eb-516cd1ff6137",
        "_cell_guid": "84cfd9ff-886a-4d0f-ada6-c960cc5e6896",
        "jupyter": {
          "outputs_hidden": false
        },
        "trusted": true,
        "id": "xN2LJbf5yKiq"
      },
      "execution_count": null,
      "outputs": []
    },
    {
      "cell_type": "code",
      "source": [
        "plot_feature_importance(final_lgb, 'LightGBM')"
      ],
      "metadata": {
        "_uuid": "2e012799-1171-4f03-825b-ad6821f68947",
        "_cell_guid": "6648bdc1-90f1-409e-8ff0-ca1b7cdebf61",
        "jupyter": {
          "outputs_hidden": false
        },
        "trusted": true,
        "id": "2vDX4UJvyKiq"
      },
      "execution_count": null,
      "outputs": []
    },
    {
      "cell_type": "code",
      "source": [
        "plot_feature_importance(final_cat, 'CatBoost')"
      ],
      "metadata": {
        "_uuid": "f1aea5ba-6b4e-46c6-9f0d-d2fec2a78f32",
        "_cell_guid": "e9e880bf-33ed-412f-833b-ff7f3cc844c8",
        "jupyter": {
          "outputs_hidden": false
        },
        "trusted": true,
        "id": "f1erhvPfyKiq"
      },
      "execution_count": null,
      "outputs": []
    },
    {
      "cell_type": "markdown",
      "source": [
        "# **Conclusion:**\n",
        "\n",
        "In this project, a comprehensive machine learning pipeline was developed to predict used car prices. Multiple optimization techniques were implemented to enhance model performance and address challenges related to computational efficiency and resource constraints.\n",
        "\n",
        "### **1. Feature Engineering and Selection:**\n",
        "- A wide range of feature engineering techniques were applied, including interaction terms (e.g., mileage, vehicle age, and engine specifications), allowing the model to capture key patterns within the data.\n",
        "- Feature importance analysis from XGBoost, LightGBM, and CatBoost helped identify the most relevant features, reducing the feature space while retaining high predictive power.\n",
        "\n",
        "### **2. Handling Missing Data and Imbalanced Features:**\n",
        "- Missing values were handled using **Iterative Imputer**, while categorical variables were encoded using strategies such as target and ordinal encoding. Rare or imbalanced categories (e.g., fuel type) were carefully managed to prevent model bias.\n",
        "\n",
        "### **3. Model Optimization:**\n",
        "- Models, including XGBoost, LightGBM, and CatBoost, were optimized using **Optuna** for hyperparameter tuning. This ensured the models were configured to perform optimally while balancing computational load.\n",
        "- GPU memory errors were addressed by adjusting model parameters (e.g., limiting tree depth, adjusting batch sizes) and, where necessary, switching to CPU-based operations.\n",
        "\n",
        "### **4. Hyperparameter Tuning Efficiency:**\n",
        "- Hyperparameter tuning was made more efficient by narrowing the search space based on previous experiments. To speed up the process, **cross-validation (cv=3)** was used, balancing between computation and performance estimation.\n",
        "- Early stopping was applied during model training to prevent overfitting and reduce training time.\n",
        "\n",
        "### **5. Managing GPU Memory Constraints:**\n",
        "- Memory issues, particularly GPU out-of-memory (OOM) errors, were mitigated by optimizing batch sizes and model parameters. Processes were moved to the CPU when GPU memory was exhausted.\n",
        "\n",
        "### **6. Ensemble Learning:**\n",
        "- A **stacking ensemble** was implemented to combine the strengths of XGBoost, LightGBM, and CatBoost. This ensemble approach leveraged the diverse patterns captured by each model, leading to improved overall performance.\n",
        "\n",
        "### **7. Final Results:**\n",
        "- Through careful feature selection, hyperparameter tuning, and ensemble modeling, the final model achieved significant improvements in predictive accuracy. The combination of memory optimization techniques and efficient cross-validation helped to balance model complexity with computational resources.\n",
        "\n",
        "---\n",
        "\n",
        "This project successfully demonstrated the importance of balancing model complexity, feature selection, and computational efficiency to build a robust price prediction model. By addressing the challenges of GPU memory usage and model tuning, we were able to deliver a solution that provides accurate predictions while remaining computationally feasible."
      ],
      "metadata": {
        "_uuid": "799455bb-8f0d-4898-8994-5de90b6783ef",
        "_cell_guid": "564e5706-1645-4424-a1c5-bcc7e9e89438",
        "trusted": true,
        "id": "jA8XMRiYyKir"
      }
    }
  ]
}